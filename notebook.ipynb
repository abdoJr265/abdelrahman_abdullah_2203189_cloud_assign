{
 "cells": [
  {
   "cell_type": "code",
   "execution_count": 1,
   "metadata": {},
   "outputs": [],
   "source": [
    "#importing libraries and data\n",
    "import numpy as np\n",
    "import pandas as pd\n",
    "books=pd.read_csv('books.csv')"
   ]
  },
  {
   "cell_type": "code",
   "execution_count": 2,
   "metadata": {},
   "outputs": [
    {
     "name": "stdout",
     "output_type": "stream",
     "text": [
      "Columns with the highest percentage of missing values:\n",
      "                           Missing_Values  Missing_Percentage\n",
      "language_code                         109            8.050222\n",
      "isbn                                   52            3.840473\n",
      "original_title                         52            3.840473\n",
      "isbn13                                 44            3.249631\n",
      "original_publication_year               3            0.221566\n"
     ]
    }
   ],
   "source": [
    "# Check for missing values in the dataset\n",
    "missing_values = books.isnull().sum()\n",
    "missing_percentage = (missing_values / len(books)) * 100\n",
    "missing_data_info = pd.DataFrame({'Missing_Values': missing_values, 'Missing_Percentage': missing_percentage})\n",
    "missing_data_info = missing_data_info.sort_values(by='Missing_Percentage', ascending=False)\n",
    "print(\"Columns with the highest percentage of missing values:\")\n",
    "print(missing_data_info.head())"
   ]
  },
  {
   "cell_type": "code",
   "execution_count": 3,
   "metadata": {},
   "outputs": [],
   "source": [
    "# Fill missing values in numerical columns with median and categorical columns with mode\n",
    "numerical_cols = books.select_dtypes(include=[np.number]).columns\n",
    "books[numerical_cols] = books[numerical_cols].fillna(books[numerical_cols].median())\n",
    "categorical_cols = books.select_dtypes(exclude=[np.number]).columns\n",
    "books[categorical_cols] = books[categorical_cols].fillna(books[categorical_cols].mode().iloc[0])"
   ]
  },
  {
   "cell_type": "code",
   "execution_count": 4,
   "metadata": {},
   "outputs": [
    {
     "name": "stdout",
     "output_type": "stream",
     "text": [
      "Columns with the highest percentage of missing values:\n",
      "                Missing_Values  Missing_Percentage\n",
      "book_id                      0                 0.0\n",
      "average_rating               0                 0.0\n",
      "image_url                    0                 0.0\n",
      "ratings_5                    0                 0.0\n",
      "ratings_4                    0                 0.0\n"
     ]
    }
   ],
   "source": [
    "# Recheck for missing values in the dataset\n",
    "missing_values = books.isnull().sum()\n",
    "missing_percentage = (missing_values / len(books)) * 100\n",
    "missing_data_info = pd.DataFrame({'Missing_Values': missing_values, 'Missing_Percentage': missing_percentage})\n",
    "missing_data_info = missing_data_info.sort_values(by='Missing_Percentage', ascending=False)\n",
    "print(\"Columns with the highest percentage of missing values:\")\n",
    "print(missing_data_info.head())"
   ]
  },
  {
   "cell_type": "code",
   "execution_count": 5,
   "metadata": {},
   "outputs": [],
   "source": [
    "#Filter harry potter books\n",
    "harry_potter_df = books[books['title'].str.contains('Harry Potter', case=False)]"
   ]
  },
  {
   "cell_type": "code",
   "execution_count": 6,
   "metadata": {},
   "outputs": [
    {
     "name": "stdout",
     "output_type": "stream",
     "text": [
      "most selled harry potter books are: 1     Harry Potter and the Sorcerer's Stone (Harry P...\n",
      "6     Harry Potter and the Prisoner of Azkaban (Harr...\n",
      "9     Harry Potter and the Chamber of Secrets (Harry...\n",
      "10    Harry Potter and the Goblet of Fire (Harry Pot...\n",
      "11    Harry Potter and the Deathly Hallows (Harry Po...\n",
      "Name: title, dtype: object\n"
     ]
    }
   ],
   "source": [
    "#sort harry potter books by ratings count to get most selled books\n",
    "sorted_harry_potter_df = harry_potter_df.sort_values(by='ratings_count', ascending=False)\n",
    "print(\"most selled harry potter books are:\",sorted_harry_potter_df[\"title\"].head())"
   ]
  },
  {
   "cell_type": "code",
   "execution_count": 7,
   "metadata": {},
   "outputs": [
    {
     "name": "stdout",
     "output_type": "stream",
     "text": [
      "Average rating of Harry Potter books: 4.482727272727273\n"
     ]
    }
   ],
   "source": [
    "#calculate average rating of all harry potter books\n",
    "average_rating = harry_potter_df['average_rating'].mean()\n",
    "print(\"Average rating of Harry Potter books:\", average_rating)"
   ]
  }
 ],
 "metadata": {
  "kernelspec": {
   "display_name": "Python 3",
   "language": "python",
   "name": "python3"
  },
  "language_info": {
   "codemirror_mode": {
    "name": "ipython",
    "version": 3
   },
   "file_extension": ".py",
   "mimetype": "text/x-python",
   "name": "python",
   "nbconvert_exporter": "python",
   "pygments_lexer": "ipython3",
   "version": "3.11.0"
  }
 },
 "nbformat": 4,
 "nbformat_minor": 2
}
